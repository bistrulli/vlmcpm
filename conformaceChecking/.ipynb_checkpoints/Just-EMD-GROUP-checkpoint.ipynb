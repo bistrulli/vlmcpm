{
 "cells": [
  {
   "cell_type": "code",
   "execution_count": 5,
   "metadata": {
    "colab": {
     "base_uri": "https://localhost:8080/"
    },
    "id": "esa53mBk7HwV",
    "outputId": "59bad562-01e1-4bfb-db59-9c4a21a550b4"
   },
   "outputs": [],
   "source": [
    "# %pip install pm4py\n",
    "# %pip install pyemd\n",
    "\n",
    "import os\n",
    "import time\n",
    "import pickle\n",
    "import pandas as pd\n",
    "import numpy as np\n",
    "import subprocess\n",
    "import multiprocessing as mp\n",
    "import argparse\n",
    "import pathlib\n",
    "from tqdm import tqdm\n",
    "import warnings\n",
    "import xml.parsers.expat\n",
    "import warnings\n",
    "import random\n",
    "from pm4py.objects.log.importer.xes import importer as xes_importer\n",
    "import pm4py\n",
    "from pm4py.objects.log.importer.xes import importer as xes_importer\n",
    "from pm4py.objects.log.exporter.xes import exporter as xes_exporter\n",
    "from pm4py.objects.petri_net.obj import PetriNet, Marking\n",
    "from pm4py.objects.petri_net.importer import importer as pnml_importer\n",
    "from pm4py.algo.simulation.playout.petri_net import algorithm as simulator\n",
    "from pm4py.statistics.variants.log import get as variants_module\n",
    "from pm4py.algo.evaluation.earth_mover_distance import algorithm as emd_evaluator\n",
    "from pm4py.objects.conversion.log import converter as log_converter\n",
    "from pm4py.objects.log.util import dataframe_utils\n",
    "\n",
    "warnings.filterwarnings(\"ignore\", category=UserWarning, module='pm4py.utils')\n",
    "warnings.filterwarnings(\"ignore\", category=UserWarning, module='pm4py.objects.stochastic_petri')\n",
    "warnings.filterwarnings(\"ignore\", category=UserWarning, module='pm4py.algo.simulation.montecarlo')\n",
    "\n",
    "#os.chdir(r'/users/sima/Desktop/stochastic/EMD-GROUP')\n"
   ]
  },
  {
   "cell_type": "markdown",
   "metadata": {
    "id": "E83ZG7pF67Dy"
   },
   "source": [
    "# **The main estimation**"
   ]
  },
  {
   "cell_type": "code",
   "execution_count": 87,
   "metadata": {
    "id": "ylNwT4KTVlKs"
   },
   "outputs": [
    {
     "data": {
      "application/vnd.jupyter.widget-view+json": {
       "model_id": "d5e58a6e42ae4f4a890316f9cd5df22e",
       "version_major": 2,
       "version_minor": 0
      },
      "text/plain": [
       "parsing log, completed traces ::   0%|          | 0/10000 [00:00<?, ?it/s]"
      ]
     },
     "metadata": {},
     "output_type": "display_data"
    },
    {
     "name": "stdout",
     "output_type": "stream",
     "text": [
      "language of model is produced\n",
      "EMD analysis for num_groups= 1 is started\n"
     ]
    },
    {
     "name": "stderr",
     "output_type": "stream",
     "text": [
      "100%|███████████████████████████████████████████████████████████████████████████████████████████████████████████████████████████████████| 1/1 [00:37<00:00, 37.93s/it]\n"
     ]
    },
    {
     "name": "stdout",
     "output_type": "stream",
     "text": [
      "Emd evaluated\n",
      "EMD results for num_groups= 1 saved to EMD-GROUP-SEL/EMD_SOLO_nGroup1.csv\n",
      "Tracking DataFrame updated for num_groups= 1\n",
      "-------------------------------------------------------------------------------------------------\n",
      "EMD analysis for num_groups= 2 is started\n"
     ]
    },
    {
     "name": "stderr",
     "output_type": "stream",
     "text": [
      "100%|███████████████████████████████████████████████████████████████████████████████████████████████████████████████████████████████████| 2/2 [01:16<00:00, 38.42s/it]\n"
     ]
    },
    {
     "name": "stdout",
     "output_type": "stream",
     "text": [
      "Emd evaluated\n",
      "EMD results for num_groups= 2 saved to EMD-GROUP-SEL/EMD_SOLO_nGroup2.csv\n",
      "Tracking DataFrame updated for num_groups= 2\n",
      "-------------------------------------------------------------------------------------------------\n",
      "EMD analysis for num_groups= 10 is started\n"
     ]
    },
    {
     "name": "stderr",
     "output_type": "stream",
     "text": [
      "100%|█████████████████████████████████████████████████████████████████████████████████████████████████████████████████████████████████| 10/10 [04:08<00:00, 24.87s/it]\n"
     ]
    },
    {
     "name": "stdout",
     "output_type": "stream",
     "text": [
      "Emd evaluated\n",
      "EMD results for num_groups= 10 saved to EMD-GROUP-SEL/EMD_SOLO_nGroup10.csv\n",
      "Tracking DataFrame updated for num_groups= 10\n",
      "-------------------------------------------------------------------------------------------------\n",
      "EMD analysis for num_groups= 50 is started\n"
     ]
    },
    {
     "name": "stderr",
     "output_type": "stream",
     "text": [
      "100%|█████████████████████████████████████████████████████████████████████████████████████████████████████████████████████████████████| 50/50 [04:23<00:00,  5.27s/it]\n"
     ]
    },
    {
     "name": "stdout",
     "output_type": "stream",
     "text": [
      "Emd evaluated\n",
      "EMD results for num_groups= 50 saved to EMD-GROUP-SEL/EMD_SOLO_nGroup50.csv\n",
      "Tracking DataFrame updated for num_groups= 50\n",
      "-------------------------------------------------------------------------------------------------\n",
      "EMD analysis for num_groups= 200 is started\n"
     ]
    },
    {
     "name": "stderr",
     "output_type": "stream",
     "text": [
      "100%|███████████████████████████████████████████████████████████████████████████████████████████████████████████████████████████████| 200/200 [07:11<00:00,  2.16s/it]\n"
     ]
    },
    {
     "name": "stdout",
     "output_type": "stream",
     "text": [
      "Emd evaluated\n",
      "EMD results for num_groups= 200 saved to EMD-GROUP-SEL/EMD_SOLO_nGroup200.csv\n",
      "Tracking DataFrame updated for num_groups= 200\n",
      "-------------------------------------------------------------------------------------------------\n",
      "EMD analysis for num_groups= 500 is started\n"
     ]
    },
    {
     "name": "stderr",
     "output_type": "stream",
     "text": [
      "100%|███████████████████████████████████████████████████████████████████████████████████████████████████████████████████████████████| 500/500 [14:32<00:00,  1.75s/it]\n"
     ]
    },
    {
     "name": "stdout",
     "output_type": "stream",
     "text": [
      "Emd evaluated\n",
      "EMD results for num_groups= 500 saved to EMD-GROUP-SEL/EMD_SOLO_nGroup500.csv\n",
      "Tracking DataFrame updated for num_groups= 500\n",
      "-------------------------------------------------------------------------------------------------\n",
      "EMD analysis for num_groups= 1000 is started\n"
     ]
    },
    {
     "name": "stderr",
     "output_type": "stream",
     "text": [
      "100%|█████████████████████████████████████████████████████████████████████████████████████████████████████████████████████████████| 1000/1000 [26:19<00:00,  1.58s/it]"
     ]
    },
    {
     "name": "stdout",
     "output_type": "stream",
     "text": [
      "Emd evaluated\n",
      "EMD results for num_groups= 1000 saved to EMD-GROUP-SEL/EMD_SOLO_nGroup1000.csv\n",
      "Tracking DataFrame updated for num_groups= 1000\n",
      "-------------------------------------------------------------------------------------------------\n",
      "Analysis finished\n"
     ]
    },
    {
     "name": "stderr",
     "output_type": "stream",
     "text": [
      "\n"
     ]
    }
   ],
   "source": [
    "import warnings\n",
    "import random\n",
    "from pm4py.objects.log.importer.xes import importer as xes_importer\n",
    "\n",
    "\n",
    "train_logfile =r'bubble_train.xes'\n",
    "log = pm4py.read_xes(train_logfile)\n",
    "\n",
    "\n",
    "log['case:concept:name'] = log['case:concept:name'].astype(str)\n",
    "log['concept:name']      = log['concept:name'].astype(str)\n",
    "# log['time:timestamp']    = pd.to_datetime(log['time:timestamp'], utc=True)\n",
    "log['time:timestamp'] = pd.to_datetime(log['time:timestamp'], format=\"%Y-%m-%dT%H:%M:%S\", utc=True)\n",
    "\n",
    "test_logfile_path1 = r'selection_test.csv'\n",
    "full_log1 =  pd.read_csv(test_logfile_path1)\n",
    "\n",
    "log = pm4py.convert_to_event_log(log)\n",
    "language_model = variants_module.get_language(log)\n",
    "# xes_exporter.apply(language_model, 'language_model_of_train.xes')\n",
    "print('language of model is produced')\n",
    "def perform_analysis(num_groups,language_model, test_log,seed=None,limit=1000):\n",
    "    test_log = test_log.copy()\n",
    "\n",
    "    test_log['case:concept:name'] = test_log['case:concept:name'].astype(str)\n",
    "    test_log['concept:name']      = test_log['concept:name'].astype(str)\n",
    "    # test_log['time:timestamp']    = pd.to_datetime(test_log['time:timestamp'], utc=True)\n",
    "    #format=\"%Y-%m-%d %H:%M:%S\"\n",
    "    test_log['time:timestamp'] = pd.to_datetime(test_log['time:timestamp'], utc=True,format=\"ISO8601\")\n",
    "\n",
    "    # Get unique case IDs and divide them into num_groups\n",
    "    case_ids = test_log['case:concept:name'].unique()\n",
    "    # Shuffle case_ids with a seed\n",
    "    if seed is not None:\n",
    "        random.seed(seed)\n",
    "        np.random.shuffle(case_ids)\n",
    "\n",
    "\n",
    "    grouped_case_ids = np.array_split(case_ids, num_groups)\n",
    "\n",
    "    emd_results = []\n",
    "    \n",
    "    for idx,group_case_ids in enumerate(tqdm(grouped_case_ids)):\n",
    "        \n",
    "        group_df = test_log[test_log['case:concept:name'].isin(group_case_ids)]\n",
    "\n",
    "        if not group_df.empty:\n",
    "            traditional_log = pm4py.convert_to_event_log(group_df)\n",
    "            case_language = variants_module.get_language(traditional_log)\n",
    "            emd_value = emd_evaluator.apply(language_model, case_language)\n",
    "            emd_results.append(emd_value)\n",
    "        if(idx>=limit):\n",
    "            break\n",
    "\n",
    "    # Convert the list of results to a DataFrame\n",
    "    emd_df = pd.DataFrame({'EMD Value': emd_results})\n",
    "\n",
    "    return emd_df\n",
    "\n",
    "\n",
    "\n",
    "def main(language_model, full_log1, num_groups):\n",
    "    emd_estimation_start_time_group = time.time()\n",
    "    emd_df = perform_analysis(num_groups, language_model, full_log1)\n",
    "    average_emd = emd_df['EMD Value'].mean()\n",
    "\n",
    "    emd_estimation_time_group = time.time() - emd_estimation_start_time_group\n",
    "    return emd_df,average_emd, emd_estimation_time_group\n",
    "\n",
    "# nruns = [5000]\n",
    "#group_counts = [1, 2 ,10 ,50 ,200,500, 1000,2000,5000 ,10000]\n",
    "#group_counts = [1, 2 ,10 ,50 ,200,500, 1000]\n",
    "group_counts = [2000,5000,1000]\n",
    "\n",
    "\n",
    "seed = 117\n",
    "\n",
    "# Directory path for the tracking DataFrame\n",
    "tracking_df_directory = 'EMD-GROUP-SEL'\n",
    "# Check if directory exists, and create it if it doesn't\n",
    "if not os.path.exists(tracking_df_directory):\n",
    "    os.makedirs(tracking_df_directory)\n",
    "\n",
    "tracking_df_group = pd.DataFrame(columns=['Num Groups', 'EMD Estimation Time', 'EMD CSV File'])\n",
    "tracking_df_group = pd.DataFrame(columns=['Num Groups', 'Average EMD', 'EMD Estimation Time', 'EMD CSV File'])\n",
    "\n",
    "\n",
    "for num_groups in group_counts:\n",
    "    print(f'EMD analysis for num_groups= {num_groups} is started')\n",
    "\n",
    "    emd_df,average_emd , emd_estimation_time_group= main(language_model, full_log1, num_groups)\n",
    "    print('Emd evaluated')\n",
    "    csv_file_path = f'{tracking_df_directory}/EMD_SOLO_nGroup{num_groups}.csv'\n",
    "    emd_df.to_csv(csv_file_path, index=False)\n",
    "    print(f'EMD results for num_groups= {num_groups} saved to {csv_file_path}')\n",
    "\n",
    "    new_row = {\n",
    "        'Num Groups': num_groups,\n",
    "        'Average EMD': average_emd,\n",
    "        'EMD Estimation Time': emd_estimation_time_group,\n",
    "        'EMD CSV File': csv_file_path,\n",
    "    }\n",
    "\n",
    "    tracking_csv_file_path = os.path.join(tracking_df_directory, \"EMD_SOLO_tracking_groups.csv\")\n",
    "\n",
    "    tracking_df_group = pd.concat([tracking_df_group, pd.DataFrame([new_row])], ignore_index=True)\n",
    "    tracking_df_group.to_csv(tracking_csv_file_path, index=False)\n",
    "    print(f'Tracking DataFrame updated for num_groups= {num_groups}')\n",
    "\n",
    "    print(\"-------------------------------------------------------------------------------------------------\")\n",
    "\n",
    "\n",
    "print('Analysis finished')\n",
    "\n"
   ]
  },
  {
   "cell_type": "markdown",
   "metadata": {
    "id": "E83ZG7pF67Dy"
   },
   "source": [
    "# **Statistics**"
   ]
  },
  {
   "cell_type": "code",
   "execution_count": 89,
   "metadata": {},
   "outputs": [
    {
     "name": "stdout",
     "output_type": "stream",
     "text": [
      "gc= 1 tp= 100.0 fn= 0.0 fp= 0.0 tn= 100.0 0.0093\n",
      "gc= 2 tp= 50.0 fn= 50.0 fp= 0.0 tn= 100.0 0.0113\n",
      "gc= 10 tp= 60.0 fn= 40.0 fp= 0.0 tn= 100.0 0.0209\n",
      "gc= 50 tp= 60.0 fn= 40.0 fp= 0.0 tn= 100.0 0.0449\n",
      "gc= 200 tp= 59.5 fn= 40.5 fp= 0.0 tn= 100.0 0.081\n",
      "gc= 500 tp= 56.6 fn= 43.4 fp= 0.0 tn= 100.0 0.1131\n",
      "gc= 1000 tp= 58.4 fn= 41.6 fp= 0.0 tn= 100.0 0.1435\n"
     ]
    }
   ],
   "source": [
    "group_counts = [1, 2 ,10 ,50 ,200,500, 1000]\n",
    "for idx,gc in enumerate(group_counts):\n",
    "    df_res=pd.read_csv(f\"/Users/emilio-imt/Desktop/sima-andrea/conforomanceChecking_res/EMD-GROUP/EMD_SOLO_nGroup{gc}.csv\")\n",
    "    df_res_sel=pd.read_csv(f\"/Users/emilio-imt/Desktop/sima-andrea/conforomanceChecking/EMD-GROUP-SEL/EMD_SOLO_nGroup{gc}.csv\")\n",
    "    thresh=pd.read_csv(f\"/Users/emilio-imt/Desktop/sima-andrea/conforomanceChecking_res/EMD-GROUP/EMD_SOLO_nGroup{group_counts[max(idx,0)]}.csv\")[\"EMD Value\"].mean()\n",
    "    tp=round(df_res[df_res[\"EMD Value\"]<=thresh].shape[0]*100/df_res.shape[0],2)\n",
    "    fn=round(100-tp,2)\n",
    "    fp=round(df_res_sel[df_res_sel[\"EMD Value\"]<=thresh].shape[0]*100/df_res_sel.shape[0],2)\n",
    "    tn=round(100-fp,2)\n",
    "    print(\"gc=\",gc,\"tp=\",tp,\"fn=\",fn,\"fp=\",fp,\"tn=\",tn,round(thresh,4))"
   ]
  },
  {
   "cell_type": "code",
   "execution_count": 90,
   "metadata": {},
   "outputs": [],
   "source": [
    "group_counts = [1, 2 ,10 ,50 ,200,500, 1000,2000,5000 ,10000]"
   ]
  },
  {
   "cell_type": "code",
   "execution_count": 105,
   "metadata": {},
   "outputs": [
    {
     "name": "stdout",
     "output_type": "stream",
     "text": [
      "[10000, 5000, 1000, 200, 50, 20, 10, 5, 2, 1]\n"
     ]
    }
   ],
   "source": [
    "print(list(map(int,np.divide(10000,np.array(group_counts)))))"
   ]
  },
  {
   "cell_type": "code",
   "execution_count": null,
   "metadata": {},
   "outputs": [],
   "source": []
  }
 ],
 "metadata": {
  "colab": {
   "collapsed_sections": [
    "Fx0AHkZGS38q",
    "cEkiKupm1QtX"
   ],
   "machine_shape": "hm",
   "provenance": []
  },
  "kernelspec": {
   "display_name": "Python 3 (ipykernel)",
   "language": "python",
   "name": "python3"
  },
  "language_info": {
   "codemirror_mode": {
    "name": "ipython",
    "version": 3
   },
   "file_extension": ".py",
   "mimetype": "text/x-python",
   "name": "python",
   "nbconvert_exporter": "python",
   "pygments_lexer": "ipython3",
   "version": "3.9.6"
  }
 },
 "nbformat": 4,
 "nbformat_minor": 4
}
